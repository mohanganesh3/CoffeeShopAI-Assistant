{
 "cells": [
  {
   "cell_type": "code",
   "execution_count": 1,
   "id": "5d0094f2",
   "metadata": {},
   "outputs": [
    {
     "name": "stdout",
     "output_type": "stream",
     "text": [
      "Collecting firebase-admin\n",
      "  Downloading firebase_admin-6.9.0-py3-none-any.whl.metadata (1.5 kB)\n",
      "Collecting cachecontrol>=0.12.14 (from firebase-admin)\n",
      "  Downloading cachecontrol-0.14.3-py3-none-any.whl.metadata (3.1 kB)\n",
      "Collecting google-api-python-client>=1.7.8 (from firebase-admin)\n",
      "  Downloading google_api_python_client-2.173.0-py3-none-any.whl.metadata (7.0 kB)\n",
      "Collecting google-cloud-storage>=1.37.1 (from firebase-admin)\n",
      "  Downloading google_cloud_storage-3.1.1-py3-none-any.whl.metadata (13 kB)\n",
      "Collecting pyjwt>=2.5.0 (from pyjwt[crypto]>=2.5.0->firebase-admin)\n",
      "  Downloading PyJWT-2.10.1-py3-none-any.whl.metadata (4.0 kB)\n",
      "Requirement already satisfied: httpx==0.28.1 in /Users/mohanganesh/.pyenv/versions/3.11.6/lib/python3.11/site-packages (from httpx[http2]==0.28.1->firebase-admin) (0.28.1)\n",
      "Requirement already satisfied: google-api-core<3.0.0dev,>=1.22.1 in /Users/mohanganesh/.pyenv/versions/3.11.6/lib/python3.11/site-packages (from google-api-core[grpc]<3.0.0dev,>=1.22.1; platform_python_implementation != \"PyPy\"->firebase-admin) (2.25.1)\n",
      "Collecting google-cloud-firestore>=2.19.0 (from firebase-admin)\n",
      "  Downloading google_cloud_firestore-2.21.0-py3-none-any.whl.metadata (9.9 kB)\n",
      "Requirement already satisfied: anyio in /Users/mohanganesh/.pyenv/versions/3.11.6/lib/python3.11/site-packages (from httpx==0.28.1->httpx[http2]==0.28.1->firebase-admin) (3.7.1)\n",
      "Requirement already satisfied: certifi in /Users/mohanganesh/.pyenv/versions/3.11.6/lib/python3.11/site-packages (from httpx==0.28.1->httpx[http2]==0.28.1->firebase-admin) (2025.4.26)\n",
      "Requirement already satisfied: httpcore==1.* in /Users/mohanganesh/.pyenv/versions/3.11.6/lib/python3.11/site-packages (from httpx==0.28.1->httpx[http2]==0.28.1->firebase-admin) (1.0.9)\n",
      "Requirement already satisfied: idna in /Users/mohanganesh/.pyenv/versions/3.11.6/lib/python3.11/site-packages (from httpx==0.28.1->httpx[http2]==0.28.1->firebase-admin) (3.10)\n",
      "Requirement already satisfied: h2<5,>=3 in /Users/mohanganesh/.pyenv/versions/3.11.6/lib/python3.11/site-packages (from httpx[http2]==0.28.1->firebase-admin) (4.2.0)\n",
      "Requirement already satisfied: googleapis-common-protos<2.0.0,>=1.56.2 in /Users/mohanganesh/.pyenv/versions/3.11.6/lib/python3.11/site-packages (from google-api-core<3.0.0dev,>=1.22.1->google-api-core[grpc]<3.0.0dev,>=1.22.1; platform_python_implementation != \"PyPy\"->firebase-admin) (1.70.0)\n",
      "Requirement already satisfied: protobuf!=3.20.0,!=3.20.1,!=4.21.0,!=4.21.1,!=4.21.2,!=4.21.3,!=4.21.4,!=4.21.5,<7.0.0,>=3.19.5 in /Users/mohanganesh/.pyenv/versions/3.11.6/lib/python3.11/site-packages (from google-api-core<3.0.0dev,>=1.22.1->google-api-core[grpc]<3.0.0dev,>=1.22.1; platform_python_implementation != \"PyPy\"->firebase-admin) (4.25.8)\n",
      "Requirement already satisfied: proto-plus<2.0.0,>=1.22.3 in /Users/mohanganesh/.pyenv/versions/3.11.6/lib/python3.11/site-packages (from google-api-core<3.0.0dev,>=1.22.1->google-api-core[grpc]<3.0.0dev,>=1.22.1; platform_python_implementation != \"PyPy\"->firebase-admin) (1.26.1)\n",
      "Requirement already satisfied: google-auth<3.0.0,>=2.14.1 in /Users/mohanganesh/.pyenv/versions/3.11.6/lib/python3.11/site-packages (from google-api-core<3.0.0dev,>=1.22.1->google-api-core[grpc]<3.0.0dev,>=1.22.1; platform_python_implementation != \"PyPy\"->firebase-admin) (2.40.3)\n",
      "Requirement already satisfied: requests<3.0.0,>=2.18.0 in /Users/mohanganesh/.pyenv/versions/3.11.6/lib/python3.11/site-packages (from google-api-core<3.0.0dev,>=1.22.1->google-api-core[grpc]<3.0.0dev,>=1.22.1; platform_python_implementation != \"PyPy\"->firebase-admin) (2.32.4)\n",
      "Requirement already satisfied: grpcio<2.0.0,>=1.33.2 in /Users/mohanganesh/.pyenv/versions/3.11.6/lib/python3.11/site-packages (from google-api-core[grpc]<3.0.0dev,>=1.22.1; platform_python_implementation != \"PyPy\"->firebase-admin) (1.73.0)\n",
      "Requirement already satisfied: grpcio-status<2.0.0,>=1.33.2 in /Users/mohanganesh/.pyenv/versions/3.11.6/lib/python3.11/site-packages (from google-api-core[grpc]<3.0.0dev,>=1.22.1; platform_python_implementation != \"PyPy\"->firebase-admin) (1.62.3)\n",
      "Requirement already satisfied: cachetools<6.0,>=2.0.0 in /Users/mohanganesh/.pyenv/versions/3.11.6/lib/python3.11/site-packages (from google-auth<3.0.0,>=2.14.1->google-api-core<3.0.0dev,>=1.22.1->google-api-core[grpc]<3.0.0dev,>=1.22.1; platform_python_implementation != \"PyPy\"->firebase-admin) (5.5.2)\n",
      "Requirement already satisfied: pyasn1-modules>=0.2.1 in /Users/mohanganesh/.pyenv/versions/3.11.6/lib/python3.11/site-packages (from google-auth<3.0.0,>=2.14.1->google-api-core<3.0.0dev,>=1.22.1->google-api-core[grpc]<3.0.0dev,>=1.22.1; platform_python_implementation != \"PyPy\"->firebase-admin) (0.4.2)\n",
      "Requirement already satisfied: rsa<5,>=3.1.4 in /Users/mohanganesh/.pyenv/versions/3.11.6/lib/python3.11/site-packages (from google-auth<3.0.0,>=2.14.1->google-api-core<3.0.0dev,>=1.22.1->google-api-core[grpc]<3.0.0dev,>=1.22.1; platform_python_implementation != \"PyPy\"->firebase-admin) (4.9.1)\n",
      "Requirement already satisfied: hyperframe<7,>=6.1 in /Users/mohanganesh/.pyenv/versions/3.11.6/lib/python3.11/site-packages (from h2<5,>=3->httpx[http2]==0.28.1->firebase-admin) (6.1.0)\n",
      "Requirement already satisfied: hpack<5,>=4.1 in /Users/mohanganesh/.pyenv/versions/3.11.6/lib/python3.11/site-packages (from h2<5,>=3->httpx[http2]==0.28.1->firebase-admin) (4.1.0)\n",
      "Requirement already satisfied: h11>=0.16 in /Users/mohanganesh/.pyenv/versions/3.11.6/lib/python3.11/site-packages (from httpcore==1.*->httpx==0.28.1->httpx[http2]==0.28.1->firebase-admin) (0.16.0)\n",
      "Requirement already satisfied: charset_normalizer<4,>=2 in /Users/mohanganesh/.pyenv/versions/3.11.6/lib/python3.11/site-packages (from requests<3.0.0,>=2.18.0->google-api-core<3.0.0dev,>=1.22.1->google-api-core[grpc]<3.0.0dev,>=1.22.1; platform_python_implementation != \"PyPy\"->firebase-admin) (3.4.2)\n",
      "Requirement already satisfied: urllib3<3,>=1.21.1 in /Users/mohanganesh/.pyenv/versions/3.11.6/lib/python3.11/site-packages (from requests<3.0.0,>=2.18.0->google-api-core<3.0.0dev,>=1.22.1->google-api-core[grpc]<3.0.0dev,>=1.22.1; platform_python_implementation != \"PyPy\"->firebase-admin) (2.4.0)\n",
      "Requirement already satisfied: pyasn1>=0.1.3 in /Users/mohanganesh/.pyenv/versions/3.11.6/lib/python3.11/site-packages (from rsa<5,>=3.1.4->google-auth<3.0.0,>=2.14.1->google-api-core<3.0.0dev,>=1.22.1->google-api-core[grpc]<3.0.0dev,>=1.22.1; platform_python_implementation != \"PyPy\"->firebase-admin) (0.6.1)\n",
      "Collecting msgpack<2.0.0,>=0.5.2 (from cachecontrol>=0.12.14->firebase-admin)\n",
      "  Downloading msgpack-1.1.1-cp311-cp311-macosx_11_0_arm64.whl.metadata (8.4 kB)\n",
      "Collecting httplib2<1.0.0,>=0.19.0 (from google-api-python-client>=1.7.8->firebase-admin)\n",
      "  Downloading httplib2-0.22.0-py3-none-any.whl.metadata (2.6 kB)\n",
      "Collecting google-auth-httplib2<1.0.0,>=0.2.0 (from google-api-python-client>=1.7.8->firebase-admin)\n",
      "  Downloading google_auth_httplib2-0.2.0-py2.py3-none-any.whl.metadata (2.2 kB)\n",
      "Collecting uritemplate<5,>=3.0.1 (from google-api-python-client>=1.7.8->firebase-admin)\n",
      "  Downloading uritemplate-4.2.0-py3-none-any.whl.metadata (2.6 kB)\n",
      "Requirement already satisfied: pyparsing!=3.0.0,!=3.0.1,!=3.0.2,!=3.0.3,<4,>=2.4.2 in /Users/mohanganesh/.pyenv/versions/3.11.6/lib/python3.11/site-packages (from httplib2<1.0.0,>=0.19.0->google-api-python-client>=1.7.8->firebase-admin) (3.2.3)\n",
      "Requirement already satisfied: google-cloud-core<3.0.0,>=1.4.1 in /Users/mohanganesh/.pyenv/versions/3.11.6/lib/python3.11/site-packages (from google-cloud-firestore>=2.19.0->firebase-admin) (2.4.3)\n",
      "Collecting google-resumable-media<3.0.0,>=2.7.2 (from google-cloud-storage>=1.37.1->firebase-admin)\n",
      "  Using cached google_resumable_media-2.7.2-py2.py3-none-any.whl.metadata (2.2 kB)\n",
      "Collecting google-crc32c<2.0.0,>=1.1.3 (from google-cloud-storage>=1.37.1->firebase-admin)\n",
      "  Using cached google_crc32c-1.7.1-cp311-cp311-macosx_12_0_arm64.whl.metadata (2.3 kB)\n",
      "Collecting cryptography>=3.4.0 (from pyjwt[crypto]>=2.5.0->firebase-admin)\n",
      "  Downloading cryptography-45.0.4-cp311-abi3-macosx_10_9_universal2.whl.metadata (5.7 kB)\n",
      "Collecting cffi>=1.14 (from cryptography>=3.4.0->pyjwt[crypto]>=2.5.0->firebase-admin)\n",
      "  Downloading cffi-1.17.1-cp311-cp311-macosx_11_0_arm64.whl.metadata (1.5 kB)\n",
      "Collecting pycparser (from cffi>=1.14->cryptography>=3.4.0->pyjwt[crypto]>=2.5.0->firebase-admin)\n",
      "  Downloading pycparser-2.22-py3-none-any.whl.metadata (943 bytes)\n",
      "Requirement already satisfied: sniffio>=1.1 in /Users/mohanganesh/.pyenv/versions/3.11.6/lib/python3.11/site-packages (from anyio->httpx==0.28.1->httpx[http2]==0.28.1->firebase-admin) (1.3.1)\n",
      "Downloading firebase_admin-6.9.0-py3-none-any.whl (139 kB)\n",
      "Downloading cachecontrol-0.14.3-py3-none-any.whl (21 kB)\n",
      "Downloading msgpack-1.1.1-cp311-cp311-macosx_11_0_arm64.whl (79 kB)\n",
      "Downloading google_api_python_client-2.173.0-py3-none-any.whl (13.6 MB)\n",
      "\u001b[2K   \u001b[90m━━━━━━━━━━━━━━━━━━━━━━━━━━━━━━━━━━━━━━━━\u001b[0m \u001b[32m13.6/13.6 MB\u001b[0m \u001b[31m987.3 kB/s\u001b[0m eta \u001b[36m0:00:00\u001b[0m00:01\u001b[0m00:01\u001b[0m\n",
      "\u001b[?25hDownloading google_auth_httplib2-0.2.0-py2.py3-none-any.whl (9.3 kB)\n",
      "Downloading httplib2-0.22.0-py3-none-any.whl (96 kB)\n",
      "Downloading uritemplate-4.2.0-py3-none-any.whl (11 kB)\n",
      "Downloading google_cloud_firestore-2.21.0-py3-none-any.whl (368 kB)\n",
      "Downloading google_cloud_storage-3.1.1-py3-none-any.whl (175 kB)\n",
      "Downloading google_crc32c-1.7.1-cp311-cp311-macosx_12_0_arm64.whl (30 kB)\n",
      "Downloading google_resumable_media-2.7.2-py2.py3-none-any.whl (81 kB)\n",
      "Downloading PyJWT-2.10.1-py3-none-any.whl (22 kB)\n",
      "Downloading cryptography-45.0.4-cp311-abi3-macosx_10_9_universal2.whl (7.1 MB)\n",
      "\u001b[2K   \u001b[90m━━━━━━━━━━━━━━━━━━━━━━━━━━━━━━━━━━━━━━━━\u001b[0m \u001b[32m7.1/7.1 MB\u001b[0m \u001b[31m3.4 MB/s\u001b[0m eta \u001b[36m0:00:00\u001b[0ma \u001b[36m0:00:01\u001b[0m\n",
      "\u001b[?25hDownloading cffi-1.17.1-cp311-cp311-macosx_11_0_arm64.whl (178 kB)\n",
      "Downloading pycparser-2.22-py3-none-any.whl (117 kB)\n",
      "Installing collected packages: uritemplate, pyjwt, pycparser, msgpack, httplib2, google-crc32c, google-resumable-media, cffi, cachecontrol, google-auth-httplib2, cryptography, google-api-python-client, google-cloud-storage, google-cloud-firestore, firebase-admin\n",
      "\u001b[2K   \u001b[90m━━━━━━━━━━━━━━━━━━━━━━━━━━━━━━━━━━━━━━━━\u001b[0m \u001b[32m15/15\u001b[0m [firebase-admin]m [google-cloud-firestore]t]\n",
      "\u001b[1A\u001b[2KSuccessfully installed cachecontrol-0.14.3 cffi-1.17.1 cryptography-45.0.4 firebase-admin-6.9.0 google-api-python-client-2.173.0 google-auth-httplib2-0.2.0 google-cloud-firestore-2.21.0 google-cloud-storage-3.1.1 google-crc32c-1.7.1 google-resumable-media-2.7.2 httplib2-0.22.0 msgpack-1.1.1 pycparser-2.22 pyjwt-2.10.1 uritemplate-4.2.0\n",
      "Requirement already satisfied: google-cloud-storage in /Users/mohanganesh/.pyenv/versions/3.11.6/lib/python3.11/site-packages (3.1.1)\n",
      "Requirement already satisfied: google-auth<3.0.0,>=2.26.1 in /Users/mohanganesh/.pyenv/versions/3.11.6/lib/python3.11/site-packages (from google-cloud-storage) (2.40.3)\n",
      "Requirement already satisfied: google-api-core<3.0.0,>=2.15.0 in /Users/mohanganesh/.pyenv/versions/3.11.6/lib/python3.11/site-packages (from google-cloud-storage) (2.25.1)\n",
      "Requirement already satisfied: google-cloud-core<3.0.0,>=2.4.2 in /Users/mohanganesh/.pyenv/versions/3.11.6/lib/python3.11/site-packages (from google-cloud-storage) (2.4.3)\n",
      "Requirement already satisfied: google-resumable-media<3.0.0,>=2.7.2 in /Users/mohanganesh/.pyenv/versions/3.11.6/lib/python3.11/site-packages (from google-cloud-storage) (2.7.2)\n",
      "Requirement already satisfied: requests<3.0.0,>=2.22.0 in /Users/mohanganesh/.pyenv/versions/3.11.6/lib/python3.11/site-packages (from google-cloud-storage) (2.32.4)\n",
      "Requirement already satisfied: google-crc32c<2.0.0,>=1.1.3 in /Users/mohanganesh/.pyenv/versions/3.11.6/lib/python3.11/site-packages (from google-cloud-storage) (1.7.1)\n",
      "Requirement already satisfied: googleapis-common-protos<2.0.0,>=1.56.2 in /Users/mohanganesh/.pyenv/versions/3.11.6/lib/python3.11/site-packages (from google-api-core<3.0.0,>=2.15.0->google-cloud-storage) (1.70.0)\n",
      "Requirement already satisfied: protobuf!=3.20.0,!=3.20.1,!=4.21.0,!=4.21.1,!=4.21.2,!=4.21.3,!=4.21.4,!=4.21.5,<7.0.0,>=3.19.5 in /Users/mohanganesh/.pyenv/versions/3.11.6/lib/python3.11/site-packages (from google-api-core<3.0.0,>=2.15.0->google-cloud-storage) (4.25.8)\n",
      "Requirement already satisfied: proto-plus<2.0.0,>=1.22.3 in /Users/mohanganesh/.pyenv/versions/3.11.6/lib/python3.11/site-packages (from google-api-core<3.0.0,>=2.15.0->google-cloud-storage) (1.26.1)\n",
      "Requirement already satisfied: cachetools<6.0,>=2.0.0 in /Users/mohanganesh/.pyenv/versions/3.11.6/lib/python3.11/site-packages (from google-auth<3.0.0,>=2.26.1->google-cloud-storage) (5.5.2)\n",
      "Requirement already satisfied: pyasn1-modules>=0.2.1 in /Users/mohanganesh/.pyenv/versions/3.11.6/lib/python3.11/site-packages (from google-auth<3.0.0,>=2.26.1->google-cloud-storage) (0.4.2)\n",
      "Requirement already satisfied: rsa<5,>=3.1.4 in /Users/mohanganesh/.pyenv/versions/3.11.6/lib/python3.11/site-packages (from google-auth<3.0.0,>=2.26.1->google-cloud-storage) (4.9.1)\n",
      "Requirement already satisfied: charset_normalizer<4,>=2 in /Users/mohanganesh/.pyenv/versions/3.11.6/lib/python3.11/site-packages (from requests<3.0.0,>=2.22.0->google-cloud-storage) (3.4.2)\n",
      "Requirement already satisfied: idna<4,>=2.5 in /Users/mohanganesh/.pyenv/versions/3.11.6/lib/python3.11/site-packages (from requests<3.0.0,>=2.22.0->google-cloud-storage) (3.10)\n",
      "Requirement already satisfied: urllib3<3,>=1.21.1 in /Users/mohanganesh/.pyenv/versions/3.11.6/lib/python3.11/site-packages (from requests<3.0.0,>=2.22.0->google-cloud-storage) (2.4.0)\n",
      "Requirement already satisfied: certifi>=2017.4.17 in /Users/mohanganesh/.pyenv/versions/3.11.6/lib/python3.11/site-packages (from requests<3.0.0,>=2.22.0->google-cloud-storage) (2025.4.26)\n",
      "Requirement already satisfied: pyasn1>=0.1.3 in /Users/mohanganesh/.pyenv/versions/3.11.6/lib/python3.11/site-packages (from rsa<5,>=3.1.4->google-auth<3.0.0,>=2.26.1->google-cloud-storage) (0.6.1)\n",
      "Requirement already satisfied: python-dotenv in /Users/mohanganesh/.pyenv/versions/3.11.6/lib/python3.11/site-packages (1.0.0)\n",
      "Requirement already satisfied: pandas in /Users/mohanganesh/.pyenv/versions/3.11.6/lib/python3.11/site-packages (2.0.3)\n",
      "Requirement already satisfied: python-dateutil>=2.8.2 in /Users/mohanganesh/.pyenv/versions/3.11.6/lib/python3.11/site-packages (from pandas) (2.9.0.post0)\n",
      "Requirement already satisfied: pytz>=2020.1 in /Users/mohanganesh/.pyenv/versions/3.11.6/lib/python3.11/site-packages (from pandas) (2025.2)\n",
      "Requirement already satisfied: tzdata>=2022.1 in /Users/mohanganesh/.pyenv/versions/3.11.6/lib/python3.11/site-packages (from pandas) (2025.2)\n",
      "Requirement already satisfied: numpy>=1.21.0 in /Users/mohanganesh/.pyenv/versions/3.11.6/lib/python3.11/site-packages (from pandas) (1.24.3)\n",
      "Requirement already satisfied: six>=1.5 in /Users/mohanganesh/.pyenv/versions/3.11.6/lib/python3.11/site-packages (from python-dateutil>=2.8.2->pandas) (1.17.0)\n"
     ]
    }
   ],
   "source": [
    "!pip install firebase-admin\n",
    "!pip install google-cloud-storage\n",
    "!pip install python-dotenv\n",
    "!pip install pandas\n"
   ]
  },
  {
   "cell_type": "code",
   "execution_count": null,
   "id": "49ffbfc4",
   "metadata": {},
   "outputs": [],
   "source": [
    "import firebase_admin\n",
    "from firebase_admin import credentials, storage\n",
    "from firebase_admin import db\n",
    "import pandas as pd\n",
    "import os\n",
    "import dotenv\n",
    "dotenv.load_dotenv()"
   ]
  },
  {
   "cell_type": "markdown",
   "id": "426a06fa",
   "metadata": {},
   "source": [
    "# Firebase Init"
   ]
  },
  {
   "cell_type": "code",
   "execution_count": 3,
   "id": "1cd22fb9",
   "metadata": {
    "vscode": {
     "languageId": "javascript"
    }
   },
   "outputs": [],
   "source": [
    "service_account_info ={\n",
    "    \"type\": os.getenv('FIREBASE_TYPE'),\n",
    "    \"project_id\": os.getenv('FIREBASE_PROJECT_ID'),\n",
    "    \"private_key_id\": os.getenv('FIREBASE_PRIVATE_KEY_ID'),\n",
    "    \"private_key\": os.getenv('FIREBASE_PRIVATE_KEY'),\n",
    "    \"client_email\": os.getenv('FIREBASE_CLIENT_EMAIL'),\n",
    "    \"client_id\": os.getenv('FIREBASE_CLIENT_ID'),\n",
    "    \"auth_uri\": os.getenv('FIREBASE_AUTH_URI'),\n",
    "    \"token_uri\": os.getenv('FIREBASE_TOKEN_URI'),\n",
    "    \"auth_provider_x509_cert_url\": os.getenv('FIREBASE_AUTH_PROVIDER_X509_CERT_URL'),\n",
    "    \"client_x509_cert_url\": os.getenv('FIREBASE_CLIENT_X509_CERT_URL'),\n",
    "    \"universe_domain\": os.getenv('FIREBASE_UNIVERSE_DOMAIN')\n",
    "  }\n",
    "  \n",
    "\n"
   ]
  },
  {
   "cell_type": "code",
   "execution_count": null,
   "id": "b37cbe76",
   "metadata": {},
   "outputs": [],
   "source": [
    "cred = credentials.Certificate(service_account_info)\n",
    "firebase_admin.initialize_app(cred,{\n",
    "    'storageBucket': 'coffee-shop-app-a4152.appspot.com',\n",
    "     'databaseURL': 'https://coffee-shop-app-a4152-default-rtdb.firebaseio.com/'\n",
    "})"
   ]
  },
  {
   "cell_type": "code",
   "execution_count": 5,
   "id": "addb5948",
   "metadata": {},
   "outputs": [],
   "source": [
    "bucket = storage.bucket()"
   ]
  },
  {
   "cell_type": "code",
   "execution_count": null,
   "id": "ff8095b6",
   "metadata": {},
   "outputs": [],
   "source": []
  },
  {
   "cell_type": "markdown",
   "id": "85213aa9",
   "metadata": {},
   "source": [
    "# Upload Data"
   ]
  },
  {
   "cell_type": "code",
   "execution_count": 6,
   "id": "7e0c06e4",
   "metadata": {},
   "outputs": [],
   "source": [
    "image_folder_path = './products/images/'"
   ]
  },
  {
   "cell_type": "code",
   "execution_count": 7,
   "id": "5407981f",
   "metadata": {},
   "outputs": [],
   "source": [
    "products_collection = db.reference('products')"
   ]
  },
  {
   "cell_type": "code",
   "execution_count": null,
   "id": "5f98b7ed",
   "metadata": {},
   "outputs": [],
   "source": [
    "df = pd.read_json('products/products.jsonl',lines=True)\n",
    "df.head(2)"
   ]
  },
  {
   "cell_type": "code",
   "execution_count": null,
   "id": "174f72f3",
   "metadata": {},
   "outputs": [],
   "source": []
  },
  {
   "cell_type": "code",
   "execution_count": 9,
   "id": "48d7da07",
   "metadata": {},
   "outputs": [],
   "source": [
    "def upload_image(bucket, image_path):\n",
    "    image_name = image_path.split('/')[-1]\n",
    "    blob = bucket.blob(f'product_images/{image_name}')\n",
    "    # Upload image\n",
    "    blob.upload_from_filename(image_path)\n",
    "    # Make the image publicly accessible and get its URL\n",
    "    blob.make_public()\n",
    "    return blob.public_url"
   ]
  },
  {
   "cell_type": "code",
   "execution_count": null,
   "id": "4ea154a6",
   "metadata": {},
   "outputs": [],
   "source": []
  },
  {
   "cell_type": "code",
   "execution_count": null,
   "id": "881051e2",
   "metadata": {},
   "outputs": [],
   "source": [
    "for index, row in df.iterrows():\n",
    "    print(index, row['name'])\n",
    "    \n",
    "    image_path = os.path.join(image_folder_path,row['image_path'])\n",
    "    \n",
    "    image_url = upload_image(bucket,image_path)\n",
    "    product_data = row.to_dict()\n",
    "    product_data.pop('image_path')\n",
    "    product_data['image_url']= image_url\n",
    "    \n",
    "    # Add to Firestore\n",
    "    products_collection.push().set(product_data)\n",
    "    "
   ]
  },
  {
   "cell_type": "code",
   "execution_count": null,
   "id": "1d8087a8",
   "metadata": {},
   "outputs": [],
   "source": []
  },
  {
   "cell_type": "code",
   "execution_count": null,
   "id": "187e78a4",
   "metadata": {},
   "outputs": [],
   "source": []
  }
 ],
 "metadata": {
  "kernelspec": {
   "display_name": "Python 3",
   "language": "python",
   "name": "python3"
  },
  "language_info": {
   "codemirror_mode": {
    "name": "ipython",
    "version": 3
   },
   "file_extension": ".py",
   "mimetype": "text/x-python",
   "name": "python",
   "nbconvert_exporter": "python",
   "pygments_lexer": "ipython3",
   "version": "3.11.6"
  }
 },
 "nbformat": 4,
 "nbformat_minor": 5
}
