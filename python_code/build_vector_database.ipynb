{
 "cells": [
  {
   "cell_type": "code",
   "execution_count": 1,
   "id": "1d4a84f8",
   "metadata": {},
   "outputs": [
    {
     "name": "stdout",
     "output_type": "stream",
     "text": [
      "Requirement already satisfied: pandas in /Users/mohanganesh/.pyenv/versions/3.11.6/lib/python3.11/site-packages (2.0.3)\n",
      "Requirement already satisfied: python-dateutil>=2.8.2 in /Users/mohanganesh/.pyenv/versions/3.11.6/lib/python3.11/site-packages (from pandas) (2.9.0.post0)\n",
      "Requirement already satisfied: pytz>=2020.1 in /Users/mohanganesh/.pyenv/versions/3.11.6/lib/python3.11/site-packages (from pandas) (2025.2)\n",
      "Requirement already satisfied: tzdata>=2022.1 in /Users/mohanganesh/.pyenv/versions/3.11.6/lib/python3.11/site-packages (from pandas) (2025.2)\n",
      "Requirement already satisfied: numpy>=1.21.0 in /Users/mohanganesh/.pyenv/versions/3.11.6/lib/python3.11/site-packages (from pandas) (1.24.3)\n",
      "Requirement already satisfied: six>=1.5 in /Users/mohanganesh/.pyenv/versions/3.11.6/lib/python3.11/site-packages (from python-dateutil>=2.8.2->pandas) (1.17.0)\n",
      "Collecting pinecone\n",
      "  Downloading pinecone-7.2.0-py3-none-any.whl.metadata (9.5 kB)\n",
      "Requirement already satisfied: certifi>=2019.11.17 in /Users/mohanganesh/.pyenv/versions/3.11.6/lib/python3.11/site-packages (from pinecone) (2025.4.26)\n",
      "Collecting pinecone-plugin-assistant<2.0.0,>=1.6.0 (from pinecone)\n",
      "  Downloading pinecone_plugin_assistant-1.7.0-py3-none-any.whl.metadata (28 kB)\n",
      "Collecting pinecone-plugin-interface<0.0.8,>=0.0.7 (from pinecone)\n",
      "  Downloading pinecone_plugin_interface-0.0.7-py3-none-any.whl.metadata (1.2 kB)\n",
      "Requirement already satisfied: python-dateutil>=2.5.3 in /Users/mohanganesh/.pyenv/versions/3.11.6/lib/python3.11/site-packages (from pinecone) (2.9.0.post0)\n",
      "Requirement already satisfied: typing-extensions>=3.7.4 in /Users/mohanganesh/.pyenv/versions/3.11.6/lib/python3.11/site-packages (from pinecone) (4.13.2)\n",
      "Requirement already satisfied: urllib3>=1.26.0 in /Users/mohanganesh/.pyenv/versions/3.11.6/lib/python3.11/site-packages (from pinecone) (2.4.0)\n",
      "Collecting packaging<25.0,>=24.2 (from pinecone-plugin-assistant<2.0.0,>=1.6.0->pinecone)\n",
      "  Using cached packaging-24.2-py3-none-any.whl.metadata (3.2 kB)\n",
      "Collecting requests<3.0.0,>=2.32.3 (from pinecone-plugin-assistant<2.0.0,>=1.6.0->pinecone)\n",
      "  Downloading requests-2.32.4-py3-none-any.whl.metadata (4.9 kB)\n",
      "Requirement already satisfied: charset_normalizer<4,>=2 in /Users/mohanganesh/.pyenv/versions/3.11.6/lib/python3.11/site-packages (from requests<3.0.0,>=2.32.3->pinecone-plugin-assistant<2.0.0,>=1.6.0->pinecone) (3.4.2)\n",
      "Requirement already satisfied: idna<4,>=2.5 in /Users/mohanganesh/.pyenv/versions/3.11.6/lib/python3.11/site-packages (from requests<3.0.0,>=2.32.3->pinecone-plugin-assistant<2.0.0,>=1.6.0->pinecone) (3.10)\n",
      "Requirement already satisfied: six>=1.5 in /Users/mohanganesh/.pyenv/versions/3.11.6/lib/python3.11/site-packages (from python-dateutil>=2.5.3->pinecone) (1.17.0)\n",
      "Downloading pinecone-7.2.0-py3-none-any.whl (524 kB)\n",
      "\u001b[2K   \u001b[90m━━━━━━━━━━━━━━━━━━━━━━━━━━━━━━━━━━━━━━━━\u001b[0m \u001b[32m524.3/524.3 kB\u001b[0m \u001b[31m1.6 MB/s\u001b[0m eta \u001b[36m0:00:00\u001b[0m-:--:--\u001b[0m\n",
      "\u001b[?25hDownloading pinecone_plugin_assistant-1.7.0-py3-none-any.whl (239 kB)\n",
      "Downloading packaging-24.2-py3-none-any.whl (65 kB)\n",
      "Downloading pinecone_plugin_interface-0.0.7-py3-none-any.whl (6.2 kB)\n",
      "Downloading requests-2.32.4-py3-none-any.whl (64 kB)\n",
      "Installing collected packages: requests, pinecone-plugin-interface, packaging, pinecone-plugin-assistant, pinecone\n",
      "\u001b[2K  Attempting uninstall: requests\n",
      "\u001b[2K    Found existing installation: requests 2.31.0\n",
      "\u001b[2K    Uninstalling requests-2.31.0:\n",
      "\u001b[2K      Successfully uninstalled requests-2.31.0\n",
      "\u001b[2K  Attempting uninstall: packaging\n",
      "\u001b[2K    Found existing installation: packaging 23.2\n",
      "\u001b[2K    Uninstalling packaging-23.2:\n",
      "\u001b[2K      Successfully uninstalled packaging-23.2\n",
      "\u001b[2K   \u001b[90m━━━━━━━━━━━━━━━━━━━━━━━━━━━━━━━━━━━━━━━━\u001b[0m \u001b[32m5/5\u001b[0m [pinecone]4/5\u001b[0m [pinecone]plugin-assistant]\n",
      "\u001b[1A\u001b[2K\u001b[31mERROR: pip's dependency resolver does not currently take into account all the packages that are installed. This behaviour is the source of the following dependency conflicts.\n",
      "langchain-core 0.1.23 requires packaging<24.0,>=23.2, but you have packaging 24.2 which is incompatible.\n",
      "streamlit 1.28.0 requires packaging<24,>=16.8, but you have packaging 24.2 which is incompatible.\u001b[0m\u001b[31m\n",
      "\u001b[0mSuccessfully installed packaging-24.2 pinecone-7.2.0 pinecone-plugin-assistant-1.7.0 pinecone-plugin-interface-0.0.7 requests-2.32.4\n",
      "Requirement already satisfied: langchain_google_genai in /Users/mohanganesh/.pyenv/versions/3.11.6/lib/python3.11/site-packages (1.0.1)\n",
      "Requirement already satisfied: google-generativeai<0.5.0,>=0.4.1 in /Users/mohanganesh/.pyenv/versions/3.11.6/lib/python3.11/site-packages (from langchain_google_genai) (0.4.1)\n",
      "Requirement already satisfied: langchain-core<0.2,>=0.1 in /Users/mohanganesh/.pyenv/versions/3.11.6/lib/python3.11/site-packages (from langchain_google_genai) (0.1.23)\n",
      "Requirement already satisfied: google-ai-generativelanguage==0.4.0 in /Users/mohanganesh/.pyenv/versions/3.11.6/lib/python3.11/site-packages (from google-generativeai<0.5.0,>=0.4.1->langchain_google_genai) (0.4.0)\n",
      "Requirement already satisfied: google-auth>=2.15.0 in /Users/mohanganesh/.pyenv/versions/3.11.6/lib/python3.11/site-packages (from google-generativeai<0.5.0,>=0.4.1->langchain_google_genai) (2.40.3)\n",
      "Requirement already satisfied: google-api-core in /Users/mohanganesh/.pyenv/versions/3.11.6/lib/python3.11/site-packages (from google-generativeai<0.5.0,>=0.4.1->langchain_google_genai) (2.25.1)\n",
      "Requirement already satisfied: protobuf in /Users/mohanganesh/.pyenv/versions/3.11.6/lib/python3.11/site-packages (from google-generativeai<0.5.0,>=0.4.1->langchain_google_genai) (4.25.8)\n",
      "Requirement already satisfied: pydantic in /Users/mohanganesh/.pyenv/versions/3.11.6/lib/python3.11/site-packages (from google-generativeai<0.5.0,>=0.4.1->langchain_google_genai) (2.11.7)\n",
      "Requirement already satisfied: tqdm in /Users/mohanganesh/.pyenv/versions/3.11.6/lib/python3.11/site-packages (from google-generativeai<0.5.0,>=0.4.1->langchain_google_genai) (4.67.1)\n",
      "Requirement already satisfied: typing-extensions in /Users/mohanganesh/.pyenv/versions/3.11.6/lib/python3.11/site-packages (from google-generativeai<0.5.0,>=0.4.1->langchain_google_genai) (4.13.2)\n",
      "Requirement already satisfied: proto-plus<2.0.0dev,>=1.22.3 in /Users/mohanganesh/.pyenv/versions/3.11.6/lib/python3.11/site-packages (from google-ai-generativelanguage==0.4.0->google-generativeai<0.5.0,>=0.4.1->langchain_google_genai) (1.26.1)\n",
      "Requirement already satisfied: googleapis-common-protos<2.0.0,>=1.56.2 in /Users/mohanganesh/.pyenv/versions/3.11.6/lib/python3.11/site-packages (from google-api-core->google-generativeai<0.5.0,>=0.4.1->langchain_google_genai) (1.70.0)\n",
      "Requirement already satisfied: requests<3.0.0,>=2.18.0 in /Users/mohanganesh/.pyenv/versions/3.11.6/lib/python3.11/site-packages (from google-api-core->google-generativeai<0.5.0,>=0.4.1->langchain_google_genai) (2.32.4)\n",
      "Requirement already satisfied: grpcio<2.0.0,>=1.33.2 in /Users/mohanganesh/.pyenv/versions/3.11.6/lib/python3.11/site-packages (from google-api-core[grpc]!=2.0.*,!=2.1.*,!=2.10.*,!=2.2.*,!=2.3.*,!=2.4.*,!=2.5.*,!=2.6.*,!=2.7.*,!=2.8.*,!=2.9.*,<3.0.0dev,>=1.34.0->google-ai-generativelanguage==0.4.0->google-generativeai<0.5.0,>=0.4.1->langchain_google_genai) (1.73.0)\n",
      "Requirement already satisfied: grpcio-status<2.0.0,>=1.33.2 in /Users/mohanganesh/.pyenv/versions/3.11.6/lib/python3.11/site-packages (from google-api-core[grpc]!=2.0.*,!=2.1.*,!=2.10.*,!=2.2.*,!=2.3.*,!=2.4.*,!=2.5.*,!=2.6.*,!=2.7.*,!=2.8.*,!=2.9.*,<3.0.0dev,>=1.34.0->google-ai-generativelanguage==0.4.0->google-generativeai<0.5.0,>=0.4.1->langchain_google_genai) (1.62.3)\n",
      "Requirement already satisfied: cachetools<6.0,>=2.0.0 in /Users/mohanganesh/.pyenv/versions/3.11.6/lib/python3.11/site-packages (from google-auth>=2.15.0->google-generativeai<0.5.0,>=0.4.1->langchain_google_genai) (5.5.2)\n",
      "Requirement already satisfied: pyasn1-modules>=0.2.1 in /Users/mohanganesh/.pyenv/versions/3.11.6/lib/python3.11/site-packages (from google-auth>=2.15.0->google-generativeai<0.5.0,>=0.4.1->langchain_google_genai) (0.4.2)\n",
      "Requirement already satisfied: rsa<5,>=3.1.4 in /Users/mohanganesh/.pyenv/versions/3.11.6/lib/python3.11/site-packages (from google-auth>=2.15.0->google-generativeai<0.5.0,>=0.4.1->langchain_google_genai) (4.9.1)\n",
      "Requirement already satisfied: PyYAML>=5.3 in /Users/mohanganesh/.pyenv/versions/3.11.6/lib/python3.11/site-packages (from langchain-core<0.2,>=0.1->langchain_google_genai) (6.0.2)\n",
      "Requirement already satisfied: anyio<5,>=3 in /Users/mohanganesh/.pyenv/versions/3.11.6/lib/python3.11/site-packages (from langchain-core<0.2,>=0.1->langchain_google_genai) (3.7.1)\n",
      "Requirement already satisfied: jsonpatch<2.0,>=1.33 in /Users/mohanganesh/.pyenv/versions/3.11.6/lib/python3.11/site-packages (from langchain-core<0.2,>=0.1->langchain_google_genai) (1.33)\n",
      "Requirement already satisfied: langsmith<0.0.88,>=0.0.87 in /Users/mohanganesh/.pyenv/versions/3.11.6/lib/python3.11/site-packages (from langchain-core<0.2,>=0.1->langchain_google_genai) (0.0.87)\n",
      "Collecting packaging<24.0,>=23.2 (from langchain-core<0.2,>=0.1->langchain_google_genai)\n",
      "  Downloading packaging-23.2-py3-none-any.whl.metadata (3.2 kB)\n",
      "Requirement already satisfied: tenacity<9.0.0,>=8.1.0 in /Users/mohanganesh/.pyenv/versions/3.11.6/lib/python3.11/site-packages (from langchain-core<0.2,>=0.1->langchain_google_genai) (8.5.0)\n",
      "Requirement already satisfied: idna>=2.8 in /Users/mohanganesh/.pyenv/versions/3.11.6/lib/python3.11/site-packages (from anyio<5,>=3->langchain-core<0.2,>=0.1->langchain_google_genai) (3.10)\n",
      "Requirement already satisfied: sniffio>=1.1 in /Users/mohanganesh/.pyenv/versions/3.11.6/lib/python3.11/site-packages (from anyio<5,>=3->langchain-core<0.2,>=0.1->langchain_google_genai) (1.3.1)\n",
      "Requirement already satisfied: jsonpointer>=1.9 in /Users/mohanganesh/.pyenv/versions/3.11.6/lib/python3.11/site-packages (from jsonpatch<2.0,>=1.33->langchain-core<0.2,>=0.1->langchain_google_genai) (3.0.0)\n",
      "Requirement already satisfied: annotated-types>=0.6.0 in /Users/mohanganesh/.pyenv/versions/3.11.6/lib/python3.11/site-packages (from pydantic->google-generativeai<0.5.0,>=0.4.1->langchain_google_genai) (0.7.0)\n",
      "Requirement already satisfied: pydantic-core==2.33.2 in /Users/mohanganesh/.pyenv/versions/3.11.6/lib/python3.11/site-packages (from pydantic->google-generativeai<0.5.0,>=0.4.1->langchain_google_genai) (2.33.2)\n",
      "Requirement already satisfied: typing-inspection>=0.4.0 in /Users/mohanganesh/.pyenv/versions/3.11.6/lib/python3.11/site-packages (from pydantic->google-generativeai<0.5.0,>=0.4.1->langchain_google_genai) (0.4.1)\n",
      "Requirement already satisfied: charset_normalizer<4,>=2 in /Users/mohanganesh/.pyenv/versions/3.11.6/lib/python3.11/site-packages (from requests<3.0.0,>=2.18.0->google-api-core->google-generativeai<0.5.0,>=0.4.1->langchain_google_genai) (3.4.2)\n",
      "Requirement already satisfied: urllib3<3,>=1.21.1 in /Users/mohanganesh/.pyenv/versions/3.11.6/lib/python3.11/site-packages (from requests<3.0.0,>=2.18.0->google-api-core->google-generativeai<0.5.0,>=0.4.1->langchain_google_genai) (2.4.0)\n",
      "Requirement already satisfied: certifi>=2017.4.17 in /Users/mohanganesh/.pyenv/versions/3.11.6/lib/python3.11/site-packages (from requests<3.0.0,>=2.18.0->google-api-core->google-generativeai<0.5.0,>=0.4.1->langchain_google_genai) (2025.4.26)\n",
      "Requirement already satisfied: pyasn1>=0.1.3 in /Users/mohanganesh/.pyenv/versions/3.11.6/lib/python3.11/site-packages (from rsa<5,>=3.1.4->google-auth>=2.15.0->google-generativeai<0.5.0,>=0.4.1->langchain_google_genai) (0.6.1)\n",
      "Downloading packaging-23.2-py3-none-any.whl (53 kB)\n",
      "Installing collected packages: packaging\n",
      "  Attempting uninstall: packaging\n",
      "    Found existing installation: packaging 24.2\n",
      "    Uninstalling packaging-24.2:\n",
      "      Successfully uninstalled packaging-24.2\n",
      "\u001b[31mERROR: pip's dependency resolver does not currently take into account all the packages that are installed. This behaviour is the source of the following dependency conflicts.\n",
      "pinecone-plugin-assistant 1.7.0 requires packaging<25.0,>=24.2, but you have packaging 23.2 which is incompatible.\u001b[0m\u001b[31m\n",
      "\u001b[0mSuccessfully installed packaging-23.2\n",
      "Requirement already satisfied: python-dotenv in /Users/mohanganesh/.pyenv/versions/3.11.6/lib/python3.11/site-packages (1.0.0)\n"
     ]
    }
   ],
   "source": [
    "!pip install pandas\n",
    "!pip install pinecone\n",
    "!pip install langchain_google_genai\n",
    "!pip install python-dotenv"
   ]
  },
  {
   "cell_type": "code",
   "execution_count": 7,
   "id": "6c66af0e",
   "metadata": {},
   "outputs": [
    {
     "data": {
      "text/plain": [
       "True"
      ]
     },
     "execution_count": 7,
     "metadata": {},
     "output_type": "execute_result"
    }
   ],
   "source": [
    "from pinecone import Pinecone, ServerlessSpec\n",
    "import os\n",
    "from langchain_google_genai import GoogleGenerativeAIEmbeddings\n",
    "import pandas as pd\n",
    "from time import time\n",
    "import dotenv\n",
    "dotenv.load_dotenv()"
   ]
  },
  {
   "cell_type": "code",
   "execution_count": 3,
   "id": "034c9e4a",
   "metadata": {},
   "outputs": [],
   "source": [
    "if \"GOOGLE_API_KEY\" not in os.environ:\n",
    "    print(\"Please set the GOOGLE_API_KEY environment variable.\")\n",
    "   "
   ]
  },
  {
   "cell_type": "code",
   "execution_count": 9,
   "id": "414a25e0",
   "metadata": {},
   "outputs": [],
   "source": [
    "if \"GOOGLE_CLOUD_PROJECT\" not in os.environ or \"GOOGLE_CLOUD_REGION\" not in os.environ:\n",
    "    print(\"Please set GOOGLE_CLOUD_PROJECT and GOOGLE_CLOUD_REGION environment variables for Vertex AI.\")\n",
    "    # For quick testing, you can uncomment and replace:\n",
    "    # os.environ[\"GOOGLE_CLOUD_PROJECT\"] = \"your-gcp-project-id\" # e.g., \"my-project-12345\"\n",
    "    # os.environ[\"GOOGLE_CLOUD_REGION\"] = \"us-central1\" # e.g., \"us-central1\"\n",
    "    exit(\"Vertex AI project/region not set. Please set environment variables.\")"
   ]
  },
  {
   "cell_type": "code",
   "execution_count": 13,
   "id": "6fd2f65c",
   "metadata": {},
   "outputs": [
    {
     "data": {
      "text/plain": [
       "True"
      ]
     },
     "execution_count": 13,
     "metadata": {},
     "output_type": "execute_result"
    }
   ],
   "source": [
    "dotenv.load_dotenv()"
   ]
  },
  {
   "cell_type": "code",
   "execution_count": 20,
   "id": "8c5cb20f",
   "metadata": {},
   "outputs": [],
   "source": [
    "\n",
    "pinecone_api_key = \"pcsk_5S2cpy_41jpruFsm5TPvGMCWZEBuE5RTkM8bT4XoqMBW5qJjKrsfjC5brDiPCH9GFTTqea\""
   ]
  },
  {
   "cell_type": "code",
   "execution_count": 21,
   "id": "a3d00ea5",
   "metadata": {},
   "outputs": [],
   "source": [
    "pc = Pinecone(api_key=pinecone_api_key)"
   ]
  },
  {
   "cell_type": "code",
   "execution_count": 22,
   "id": "da432083",
   "metadata": {},
   "outputs": [],
   "source": [
    "\n",
    "\n",
    "client = GoogleGenerativeAIEmbeddings(model=\"models/embedding-001\") "
   ]
  },
  {
   "cell_type": "markdown",
   "id": "c1006b63",
   "metadata": {},
   "source": [
    "## Try out embeddings"
   ]
  },
  {
   "cell_type": "code",
   "execution_count": 26,
   "id": "bb120d1c",
   "metadata": {
    "scrolled": true
   },
   "outputs": [
    {
     "name": "stdout",
     "output_type": "stream",
     "text": [
      "[0.041495755, 0.014384685, -0.06567345, -0.03147624, 0.058659516, 0.008459238, 0.014193387, -0.027429312, -0.0069411243, 0.04771172, -0.02628475, 0.01685063, -0.04055326, 0.013362434, -0.019462084, -0.019906286, 0.012314993, 0.025338164, 0.030579597, -0.005077693, 0.029328683, 0.01872456, -0.0030511993, 0.007256962, 0.04212129, -0.022396091, 0.024133857, -0.026035402, -0.03512501, -0.008920383, -0.036745254, 0.010547488, -0.035346545, 0.016792215, 0.02460987, -0.060742043, 0.0054182885, 0.0133433165, -0.009213602, 0.0037820719, 0.012735728, -0.054769807, -0.03779811, 0.008245731, 0.01934423, 0.017024975, -0.044501595, 0.020249115, 0.016490737, -0.0474477, 0.04301519, 0.023565589, 0.07127201, -0.034877025, -0.011847475, -0.038979042, 0.061894834, 0.004014004, -0.020040235, 0.023549715, -0.0054484955, 0.008607946, 0.044222, 0.0058555645, -0.036254335, -0.066397846, -0.05777415, 0.019632012, 0.050096765, -0.005459263, -0.010499365, -0.061314814, 0.031477872, -0.0009826925, 0.009121051, -0.12751056, -0.0043225624, 0.05207475, 0.01820388, -0.033505898, -0.015188023, -0.050833195, -0.078133635, -0.020949414, -0.09215033, 0.012382497, -0.041948516, -0.010547883, 0.013780762, 0.041448906, -0.01945728, -0.016013037, 0.04726178, -0.027682776, -0.009256, 0.071293645, -0.04131204, -0.032377545, 0.038077626, -0.01351896, 0.007146361, -0.02944381, -0.058372926, 0.017557316, 0.03518987, 0.012824335, 0.010486022, 0.035475407, 0.0025502746, 0.03979048, -0.074153334, 0.023638902, 0.0133827, 0.011471391, 0.040598348, -0.039622385, -0.010777004, 0.09376597, 0.032185655, 0.059073824, 0.017816348, -0.019699877, 0.06875094, -0.042603027, 0.033247516, 0.003298751, -0.026232606, 0.054400656, 0.012876118, -0.007450674, -0.0051063416, -0.041882567, -0.031282164, 0.032571204, 0.045731433, 0.07637716, 0.041857593, -0.030033408, 0.014293336, -0.0141909085, 0.014167971, 0.023108795, 0.017303659, 0.019727383, -0.01252754, 0.061482966, -0.0731756, 0.00013198331, 0.058575872, -0.039225936, -0.021078028, -0.014426278, -0.08066148, -0.019169468, 0.048195366, -0.017390072, -0.031861335, 0.022258729, 0.03480307, 0.023708742, 0.03161836, -0.010559771, 0.033996467, 0.025758354, -0.0064216517, -0.023773024, -0.030954132, -0.0046044416, -0.014798975, 0.020177247, -0.02566682, 0.0055110008, -0.047978766, -0.037397526, -0.008158336, -0.04615688, 0.044127975, -0.014048258, -0.03981308, -0.021071814, 0.01151082, -0.04236398, 0.02640674, 0.059387866, 0.0068433248, -0.053546436, 0.060720697, 0.015459514, -0.017299542, 0.030803153, -0.0022209373, -0.00043107293, -0.04044055, -0.040262386, -0.028324567, 0.04222144, -0.0018061713, 0.0076052556, 0.009505389, -0.058334433, 0.013117848, 0.07030559, 0.0028964255, 0.00202553, 0.037448794, -0.020787958, 0.06489011, -0.045567703, -0.039480787, 0.049196005, -0.025333978, 0.024471197, -0.024609525, -0.013205836, 0.025760405, 0.0005163037, 0.01191343, 0.019414121, 0.016257312, -0.02627828, -0.016080711, -0.0132277, -0.035698745, 0.007608748, 0.015960995, 0.06854718, -0.0015534784, -0.0057735397, 0.018020859, -0.033289623, -0.0041551953, 0.0721073, 0.0038328813, -0.018758353, 0.07502377, -0.014829604, -0.0042364043, 0.029268911, 0.030048164, 0.03329559, -0.053553123, 0.023803197, 0.027762165, 0.06533566, -0.06022306, -0.045037262, -0.045268007, 0.042553652, 0.0027887996, 0.05294911, 0.01680382, -0.052812308, -0.0021209505, -0.010668401, -0.108376294, 0.02732888, -0.035664976, 0.024706613, -0.039308246, 0.019959232, 0.053870033, 0.01114461, 0.0040701064, -0.009511153, -0.014819075, -0.01731713, 0.026081733, -0.07137304, 0.01142752, -0.009166542, 0.009001133, -0.018098228, 0.06958413, 0.020040698, 0.0010945837, 0.029718857, -0.02706156, 0.06160646, 0.02314186, -0.042523533, 0.02332954, 0.014952518, 0.02827749, -0.040874317, 0.021246215, -0.0027156554, -0.054737285, -0.023142278, 0.003263949, -0.05467745, -0.021339934, -0.06646276, 0.04253955, -0.03222365, -0.011449592, 0.0061972034, 0.0054461337, 0.016977621, 0.019312812, -0.04587171, -0.019425256, -0.06964462, 0.01962199, -0.11291389, -0.025696037, -0.0009960604, -0.02637818, -0.047091182, 0.028085425, 0.043422546, -0.014220173, 0.03323324, -0.03316189, 0.0047305813, 0.044831276, 0.03023783, -0.032734852, 0.047091454, -0.0075993147, 0.048743658, 0.005827818, 0.08502705, 0.022663938, 0.0065000355, -0.03912974, 0.04201058, 0.017708343, 0.010286984, -0.013365533, 0.013644839, -0.014350561, 0.043627754, -0.055830248, -0.021716276, -0.015383056, 0.03782592, -0.08563539, 0.027571851, -0.047969863, -0.01749569, -0.010081166, 0.021212744, -0.033447932, -0.050650477, 0.018804852, 0.00327867, -0.03954776, 0.050521493, 0.06110582, 0.0530522, 0.015884494, 0.10262638, -0.014731213, 0.050543975, -0.010237577, -0.026688145, 0.03231443, -0.029693596, -0.0025519582, -0.029375026, 0.02131816, 0.019619837, -0.0058137025, -0.03621192, -0.0240121, -0.0031479956, -0.024671093, -0.0017241479, -0.014103104, 0.06448922, 0.020763168, -0.0146993, 0.014102539, -0.05558307, 0.020614602, 0.011998201, -0.041368727, -0.016779646, 0.035640385, 0.020998962, 0.007331219, 0.0047446284, 0.041326534, -0.0006189955, 0.021404544, -0.02366025, 0.041465882, 0.008546157, -0.041544244, 0.020040836, -0.061207052, 0.039498437, 0.09855357, 0.019075586, -0.004312333, -0.03344929, -0.019137004, -0.06214459, 0.00551745, 0.03930341, -0.02150791, -0.05969372, -0.036213137, -0.0052254926, -0.05509292, 0.014471591, 0.008704752, 0.0017393002, -0.04628828, -0.022446068, 0.017741162, -0.0077815955, 0.014583444, -0.06892916, -0.039488893, -0.05657389, 0.06286508, -0.022833388, -0.026747813, 0.036232457, -0.03201925, -0.0064169606, -0.007854629, -0.01698625, -0.07757693, -0.029552072, 0.028049499, 0.031535383, -0.024304477, 0.014976542, 0.024095763, 0.010996412, -0.018024845, -0.03727197, -0.0272781, -0.054113224, -0.0010933905, 0.042954355, -0.028216107, 0.006983788, 0.03967037, -0.028452648, 0.017656839, -0.013940881, -0.0006617735, -0.0075285295, -0.027603922, -0.02635439, 0.00380352, -0.09932563, 0.046557743, -0.095013484, -0.020399366, -0.061835743, -0.06946136, -0.026678234, 0.0211344, 0.073836364, -0.009227772, 0.030153327, -0.008730196, -0.011180848, -0.020698255, -0.09405553, 0.03222372, -0.021321647, -0.0026287884, -0.013453851, 0.023820681, 0.04060933, 0.026608178, -0.0063423486, -0.012195458, 0.000110259774, -0.025795965, -0.021226289, -0.096083656, 0.065639965, -0.023070388, -0.01044142, 0.020051861, 0.040400468, -0.02977798, 0.017990919, -0.010226112, 0.016335657, 0.008536134, -0.020816002, -0.03759837, 0.05149124, 0.03858228, -0.023346428, -0.00771968, -0.021627914, -0.03323844, 0.004776927, -0.015981853, 0.048081893, 0.039744727, 0.027079206, -0.030886242, -0.023613213, -0.0151684005, -0.013344085, 0.08730305, -0.07914309, -0.0122980205, 0.03219095, 0.03116016, -0.00844099, 0.015440271, 0.030723875, -0.008418036, 0.013920553, 0.05046017, -0.027744103, 0.016099647, 0.0017012422, -0.002196641, 0.01208744, 0.037569482, -0.0093978485, -0.079393215, -0.032292962, -0.016634127, -0.060856573, -0.00515861, 0.007977464, -0.031024313, 0.025000777, -0.038439844, 0.0842441, -0.056414712, -0.008003373, 0.03912133, 0.0076419455, 0.028402166, 0.025373023, -0.021918867, -0.026000429, 0.05911824, -0.005868837, 0.055248797, 0.01323864, -0.05290162, 0.016891764, 0.01517933, -0.07942376, -0.002010963, 0.0003971819, -0.015920175, 0.01619899, 0.037681878, -0.002479803, 0.002033689, -0.0025640526, -0.0074647986, 0.0086506475, 0.04320179, -0.003838513, 0.02203877, 0.016396789, 0.014653987, 0.03534296, 0.06807349, 0.011610542, -0.030726304, -0.012024548, 0.052183043, -0.002636731, -0.013547911, 0.008741978, 0.037609342, -0.00459317, 0.052853633, -0.024699785, -0.059237264, -0.0031199565, -0.024185281, -0.0043247696, 0.0589279, -0.023377702, -0.017369844, 0.07285438, -0.036815714, 0.021974036, 0.07353107, 0.042863835, 0.023020592, 0.013593282, -0.04245574, 0.0050922194, -0.017917905, 0.0020893288, -0.015050329, 0.014500138, 0.014798648, -0.0061864243, -0.026339918, -0.014324935, 0.033072926, -0.021796288, 0.040543467, -0.050483312, 0.038309406, 0.0361013, -0.01955865, 0.01209292, 0.026283776, 0.08958257, 0.00056595117, -0.031540405, 0.0068254774, -0.03525915, -0.038134925, -0.049247343, 0.092169575, -0.02397355, -0.025942622, -0.035253983, -0.016185902, 0.0072981077, 0.006644721, -0.009514454, 0.016667444, -0.0012685627, -0.031954944, -0.01159374, 0.050712436, 0.033586625, 0.056968816, 0.06402469, -0.0112812305, 0.029873816, -0.040210158, -0.0072393087, -0.020834012, 0.028782794, 0.06862867, -0.015031013, -0.08397987, 0.010271973, 0.0034680036, -0.0036013576, -0.016905677, 0.056237325, 0.015114209, -0.079103455, -0.061197463, 0.004892442, 0.0010381481, 0.00084955373, -0.002160938, -0.014324729, -0.0026811403, 0.027757838, -0.017076759, -0.0481903, 0.036159206, -0.011623708, -0.050547536, -0.012875783, -0.009232932, 0.015452042, 0.012686931, -0.040450122, -0.041072596, -0.0906736, -0.019728817, 0.04895006, -0.066977985, 0.02106597, 0.04693983, -0.016885685, 0.03362345, 0.007501469, 0.015674872, 0.026271634, -0.004337564, 0.029914036, 0.039435793, 0.002467845, -0.03851671, 0.021015238, 0.0001931618, 0.03769698, 0.02013286, -0.0047976896, -0.04081308, -0.03892825, 0.0014534416, -0.017432343, -0.01003054, 0.047208752, 0.017498462, 0.040016703, -0.018842481, -0.014173404, 0.0148589825, 0.046548456, -0.02209998, -0.049554925, -0.02439443, 0.013572537, 0.035657987, 0.009467905, 0.024410792, 0.02022715, 0.026416924, 0.049196854, 0.011396787, -0.031885013, -0.025289252, 0.0534699, 0.011860186, -0.0435459, 0.020245178, 0.03841552, -0.036134522, 0.05888528, 0.044811964, 0.043097407, 0.027353274, -0.023560463, -0.046237744, 0.081970595, -0.045835447, -0.005126942, -0.034975976, -0.041582577, 0.08041284, -0.009000714, 0.009796866, 0.01272503, -0.028128825, 0.08120802, 0.036387097, 0.026543306, 0.010309012, -0.08430421, -0.04481562, 0.008021366, 0.008909491, 0.04269169, 0.042545825, -0.0072264997, -0.004941186, -0.008417704, 0.021783955, -0.066968374, -0.029272042, 0.006280191, -0.050751608, 0.06163675, 0.046103474, 0.01500237, -0.011606721, -0.0053762, 7.436933e-05, 0.013444616, -0.030245146, -0.024095383, -0.005725912, 0.0006663616, 0.013777742, 0.0064745774, -0.012159531, 0.015286241]\n"
     ]
    }
   ],
   "source": [
    "embedding = client.embed_query(\"helloo there\")\n",
    "\n",
    "print(embedding)"
   ]
  },
  {
   "cell_type": "code",
   "execution_count": 28,
   "id": "29e9587b",
   "metadata": {},
   "outputs": [
    {
     "data": {
      "text/plain": [
       "768"
      ]
     },
     "execution_count": 28,
     "metadata": {},
     "output_type": "execute_result"
    }
   ],
   "source": [
    "len(embedding)"
   ]
  },
  {
   "cell_type": "code",
   "execution_count": null,
   "id": "cb658827",
   "metadata": {},
   "outputs": [],
   "source": []
  },
  {
   "cell_type": "markdown",
   "id": "9b8b80de",
   "metadata": {},
   "source": [
    "## Wrangle dataset"
   ]
  },
  {
   "cell_type": "code",
   "execution_count": 7,
   "id": "5e2e1be8",
   "metadata": {},
   "outputs": [],
   "source": [
    "df=pd.read_json('products/products.jsonl',lines=True)"
   ]
  },
  {
   "cell_type": "code",
   "execution_count": 8,
   "id": "dbffeb98",
   "metadata": {},
   "outputs": [
    {
     "data": {
      "text/html": [
       "<div>\n",
       "<style scoped>\n",
       "    .dataframe tbody tr th:only-of-type {\n",
       "        vertical-align: middle;\n",
       "    }\n",
       "\n",
       "    .dataframe tbody tr th {\n",
       "        vertical-align: top;\n",
       "    }\n",
       "\n",
       "    .dataframe thead th {\n",
       "        text-align: right;\n",
       "    }\n",
       "</style>\n",
       "<table border=\"1\" class=\"dataframe\">\n",
       "  <thead>\n",
       "    <tr style=\"text-align: right;\">\n",
       "      <th></th>\n",
       "      <th>name</th>\n",
       "      <th>category</th>\n",
       "      <th>description</th>\n",
       "      <th>ingredients</th>\n",
       "      <th>price</th>\n",
       "      <th>rating</th>\n",
       "      <th>image_path</th>\n",
       "    </tr>\n",
       "  </thead>\n",
       "  <tbody>\n",
       "    <tr>\n",
       "      <th>0</th>\n",
       "      <td>Cappuccino</td>\n",
       "      <td>Coffee</td>\n",
       "      <td>A rich and creamy cappuccino made with freshly...</td>\n",
       "      <td>[Espresso, Steamed Milk, Milk Foam]</td>\n",
       "      <td>4.50</td>\n",
       "      <td>4.7</td>\n",
       "      <td>cappuccino.jpg</td>\n",
       "    </tr>\n",
       "    <tr>\n",
       "      <th>1</th>\n",
       "      <td>Jumbo Savory Scone</td>\n",
       "      <td>Bakery</td>\n",
       "      <td>Deliciously flaky and buttery, this jumbo savo...</td>\n",
       "      <td>[Flour, Butter, Cheese, Herbs, Baking Powder, ...</td>\n",
       "      <td>3.25</td>\n",
       "      <td>4.3</td>\n",
       "      <td>SavoryScone.webp</td>\n",
       "    </tr>\n",
       "  </tbody>\n",
       "</table>\n",
       "</div>"
      ],
      "text/plain": [
       "                 name category  \\\n",
       "0          Cappuccino   Coffee   \n",
       "1  Jumbo Savory Scone   Bakery   \n",
       "\n",
       "                                         description  \\\n",
       "0  A rich and creamy cappuccino made with freshly...   \n",
       "1  Deliciously flaky and buttery, this jumbo savo...   \n",
       "\n",
       "                                         ingredients  price  rating  \\\n",
       "0                [Espresso, Steamed Milk, Milk Foam]   4.50     4.7   \n",
       "1  [Flour, Butter, Cheese, Herbs, Baking Powder, ...   3.25     4.3   \n",
       "\n",
       "         image_path  \n",
       "0    cappuccino.jpg  \n",
       "1  SavoryScone.webp  "
      ]
     },
     "execution_count": 8,
     "metadata": {},
     "output_type": "execute_result"
    }
   ],
   "source": [
    "df.head(2)"
   ]
  },
  {
   "cell_type": "code",
   "execution_count": null,
   "id": "1cc39471",
   "metadata": {},
   "outputs": [],
   "source": []
  },
  {
   "cell_type": "code",
   "execution_count": 11,
   "id": "d9ea042d",
   "metadata": {},
   "outputs": [],
   "source": [
    "df['text'] =  df['name']+\" : \"+df['description'] + \\\n",
    "                \" -- Ingredients: \" + df['ingredients'].astype(str) + \\\n",
    "                \" -- Price: \" + df['price'].astype(str) + \\\n",
    "                \" -- rating: \" + df['rating'].astype(str) "
   ]
  },
  {
   "cell_type": "code",
   "execution_count": 12,
   "id": "e0254a83",
   "metadata": {},
   "outputs": [
    {
     "data": {
      "text/plain": [
       "0    Cappuccino : A rich and creamy cappuccino made...\n",
       "1    Jumbo Savory Scone : Deliciously flaky and but...\n",
       "2    Latte : Smooth and creamy, our latte combines ...\n",
       "3    Chocolate Chip Biscotti : Crunchy and delightf...\n",
       "4    Espresso shot : A bold shot of rich espresso, ...\n",
       "Name: text, dtype: object"
      ]
     },
     "execution_count": 12,
     "metadata": {},
     "output_type": "execute_result"
    }
   ],
   "source": [
    "df['text'].head()"
   ]
  },
  {
   "cell_type": "code",
   "execution_count": 26,
   "id": "54a8a7cc",
   "metadata": {},
   "outputs": [],
   "source": [
    "texts = df['text'].tolist()"
   ]
  },
  {
   "cell_type": "code",
   "execution_count": 27,
   "id": "89e73365",
   "metadata": {},
   "outputs": [],
   "source": [
    "with open('products/Merry\\'s_way_about_us.txt') as f:\n",
    "    Merry_way_about_section = f.read()\n",
    "    \n",
    "Merry_way_about_section = \"Coffee shop Merry's Way about section: \" + Merry_way_about_section\n",
    "texts.append(Merry_way_about_section)"
   ]
  },
  {
   "cell_type": "code",
   "execution_count": 28,
   "id": "89c92467",
   "metadata": {},
   "outputs": [],
   "source": [
    "with open('products/menu_items_text.txt') as f:\n",
    "    menue_items_text = f.read()\n",
    "    \n",
    "menue_items_text = \"Menu Items: \" + menue_items_text\n",
    "texts.append(menue_items_text)"
   ]
  },
  {
   "cell_type": "code",
   "execution_count": null,
   "id": "f4432c64",
   "metadata": {},
   "outputs": [],
   "source": []
  },
  {
   "cell_type": "markdown",
   "id": "12e041b1",
   "metadata": {},
   "source": [
    "## Generate Embeddings"
   ]
  },
  {
   "cell_type": "code",
   "execution_count": null,
   "id": "d4995842",
   "metadata": {},
   "outputs": [],
   "source": [
    "output = client.embed_query(texts)"
   ]
  },
  {
   "cell_type": "code",
   "execution_count": 36,
   "id": "69b16ab5",
   "metadata": {},
   "outputs": [],
   "source": [
    "embeddings = output"
   ]
  },
  {
   "cell_type": "code",
   "execution_count": null,
   "id": "ffc75b47",
   "metadata": {},
   "outputs": [],
   "source": []
  },
  {
   "cell_type": "markdown",
   "id": "b63f8308",
   "metadata": {},
   "source": [
    "## Push data to database"
   ]
  },
  {
   "cell_type": "code",
   "execution_count": null,
   "id": "5a255797",
   "metadata": {},
   "outputs": [],
   "source": [
    "index_name = \"coffeeshop\"\n",
    "\n",
    "pc.create_index(\n",
    "    name=index_name,\n",
    "    dimension=768, # Replace with your model dimensions\n",
    "    metric=\"cosine\", # Replace with your model metric\n",
    "    spec=ServerlessSpec(\n",
    "        cloud=\"aws\",\n",
    "        region=\"us-east-1\"\n",
    "    ) \n",
    ")"
   ]
  },
  {
   "cell_type": "code",
   "execution_count": null,
   "id": "e742460e",
   "metadata": {},
   "outputs": [],
   "source": [
    "# Wait for the index to be ready\n",
    "while not pc.describe_index(index_name).status['ready']:\n",
    "    time.sleep(1)\n",
    "\n",
    "index = pc.Index(index_name)\n",
    "\n",
    "vectors = []\n",
    "for text, e in zip(texts, embeddings):\n",
    "    entry_id = text.split(\":\")[0].strip()\n",
    "    vectors.append({\n",
    "        \"id\": entry_id,\n",
    "        \"values\": e.embedding,\n",
    "        \"metadata\": {'text': text}\n",
    "    })\n",
    "    \n",
    "index.upsert(\n",
    "    vectors=vectors,\n",
    "    namespace=\"ns1\"\n",
    ")"
   ]
  },
  {
   "cell_type": "code",
   "execution_count": 36,
   "id": "9eed61b1",
   "metadata": {},
   "outputs": [],
   "source": [
    "index_name = \"coffeeshop\""
   ]
  },
  {
   "cell_type": "code",
   "execution_count": 37,
   "id": "cb353a20",
   "metadata": {},
   "outputs": [],
   "source": [
    "index = pc.Index(index_name)"
   ]
  },
  {
   "cell_type": "markdown",
   "id": "978c769f",
   "metadata": {},
   "source": [
    "## Get Closest documents"
   ]
  },
  {
   "cell_type": "code",
   "execution_count": 34,
   "id": "34ba1c35",
   "metadata": {},
   "outputs": [],
   "source": [
    "text=\"Is Cappuccino lactose-free?\""
   ]
  },
  {
   "cell_type": "code",
   "execution_count": 35,
   "id": "80691695",
   "metadata": {},
   "outputs": [],
   "source": [
    "output = client.embed_query(text)\n",
    "embeding = output"
   ]
  },
  {
   "cell_type": "code",
   "execution_count": 38,
   "id": "0571221f",
   "metadata": {},
   "outputs": [
    {
     "name": "stdout",
     "output_type": "stream",
     "text": [
      "{'matches': [{'id': 'Cappuccino',\n",
      "              'metadata': {'text': 'Cappuccino : A rich and creamy cappuccino '\n",
      "                                   'made with freshly brewed espresso, steamed '\n",
      "                                   'milk, and a frothy milk cap. This '\n",
      "                                   'delightful drink offers a perfect balance '\n",
      "                                   'of bold coffee flavor and smooth milk, '\n",
      "                                   'making it an ideal companion for relaxing '\n",
      "                                   'mornings or lively conversations. -- '\n",
      "                                   \"Ingredients: ['Espresso', 'Steamed Milk', \"\n",
      "                                   \"'Milk Foam'] -- Price: 4.5 -- rating: 4.7\"},\n",
      "              'score': 0.787013888,\n",
      "              'values': []},\n",
      "             {'id': 'Latte',\n",
      "              'metadata': {'text': 'Latte : Smooth and creamy, our latte '\n",
      "                                   'combines rich espresso with velvety '\n",
      "                                   'steamed milk, creating a perfect balance '\n",
      "                                   'of flavor and texture. Enjoy it as a '\n",
      "                                   'comforting treat any time of day, whether '\n",
      "                                   \"you're starting your morning or taking a \"\n",
      "                                   \"midday break. -- Ingredients: ['Espresso', \"\n",
      "                                   \"'Steamed Milk', 'Milk Foam'] -- Price: \"\n",
      "                                   '4.75 -- rating: 4.8'},\n",
      "              'score': 0.760475099,\n",
      "              'values': []},\n",
      "             {'id': 'Espresso shot',\n",
      "              'metadata': {'text': 'Espresso shot : A bold shot of rich '\n",
      "                                   'espresso, our espresso is crafted from the '\n",
      "                                   'finest beans to deliver a robust flavor in '\n",
      "                                   'every sip. Perfect for a quick pick-me-up, '\n",
      "                                   'it can also serve as a base for your '\n",
      "                                   'favorite coffee drinks. -- Ingredients: '\n",
      "                                   \"['Espresso'] -- Price: 2.0 -- rating: 4.9\"},\n",
      "              'score': 0.752994657,\n",
      "              'values': []}],\n",
      " 'namespace': 'ns1',\n",
      " 'usage': {'read_units': 6}}\n"
     ]
    }
   ],
   "source": [
    "results = index.query(\n",
    "    namespace=\"ns1\",\n",
    "    vector=embeding,\n",
    "    top_k=3,\n",
    "    include_values=False,\n",
    "    include_metadata=True\n",
    ")\n",
    "\n",
    "print(results)"
   ]
  },
  {
   "cell_type": "code",
   "execution_count": null,
   "id": "4d44ecd9",
   "metadata": {},
   "outputs": [],
   "source": []
  },
  {
   "cell_type": "code",
   "execution_count": null,
   "id": "3ca62f60",
   "metadata": {},
   "outputs": [],
   "source": []
  }
 ],
 "metadata": {
  "kernelspec": {
   "display_name": "Python 3",
   "language": "python",
   "name": "python3"
  },
  "language_info": {
   "codemirror_mode": {
    "name": "ipython",
    "version": 3
   },
   "file_extension": ".py",
   "mimetype": "text/x-python",
   "name": "python",
   "nbconvert_exporter": "python",
   "pygments_lexer": "ipython3",
   "version": "3.11.6"
  }
 },
 "nbformat": 4,
 "nbformat_minor": 5
}
